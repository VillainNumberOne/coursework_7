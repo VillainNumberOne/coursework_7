{
 "cells": [
  {
   "cell_type": "code",
   "execution_count": 2,
   "metadata": {},
   "outputs": [],
   "source": [
    "def prepare(code_string):\n",
    "    return code_string.replace(\"\\n\", \" \")"
   ]
  },
  {
   "cell_type": "code",
   "execution_count": 3,
   "metadata": {},
   "outputs": [
    {
     "name": "stdout",
     "output_type": "stream",
     "text": [
      "'\"Начало\"  \"Первое\" 110 88 8123 23 \"Второе\" 999.99, 111.111, \"Конец второго\" \"Третье\" vara, varb, varc  \"Сочетаемое\" 12 34  123: vara = 1 + [2 * 3] || 4  varb = 1 + [2 * 3] || 4  '\n"
     ]
    }
   ],
   "source": [
    "with open(\"code_example.txt\", encoding = 'utf-8', mode=\"r\") as f:\n",
    "    code = prepare(f.read())\n",
    "print(repr(code))"
   ]
  },
  {
   "cell_type": "code",
   "execution_count": 1,
   "metadata": {},
   "outputs": [
    {
     "data": {
      "text/plain": [
       "'None'"
      ]
     },
     "execution_count": 1,
     "metadata": {},
     "output_type": "execute_result"
    }
   ],
   "source": [
    "None.__repr__()"
   ]
  },
  {
   "cell_type": "code",
   "execution_count": 22,
   "metadata": {},
   "outputs": [],
   "source": [
    "import re\n",
    "\n",
    "#########################################\n",
    "# Tokens\n",
    "# Words\n",
    "T_BEGIN = \"BEGIN\"\n",
    "T_FIRST = \"FIRST\"\n",
    "T_SECOND = \"SECOND\"\n",
    "T_EOSECOND = \"END OF SECOND\"\n",
    "T_THIRD = \"THIRD\"\n",
    "T_COMBINED = \"COMBINED\"\n",
    "# Values\n",
    "T_REAL = \"REAL\"\n",
    "T_INT = \"INTEGER\"\n",
    "T_ID = \"ID\"\n",
    "# Operators\n",
    "T_PLUS = \"PLUS\"\n",
    "T_MINUS = \"MINUS\"\n",
    "T_MUL = \"MUL\"\n",
    "T_DIV = \"DIV\"\n",
    "T_COMMA = \"COMMA\"\n",
    "T_LBR = \"L BRACKET\"\n",
    "T_RBR = \"R BRACKET\"\n",
    "T_EQ = \"EQUALS\"\n",
    "T_AND = \"AND\"\n",
    "T_OR = \"OR\"\n",
    "# Other\n",
    "T_EOF = \"EOF\"\n",
    "T_MARK = \"MARK\"\n",
    "T_TEMP_EXPR = \"EXPRESSION\"\n",
    "#########################################\n",
    "\n",
    "class Pattern(object):\n",
    "    def __init__(self, re, type, token) -> None:\n",
    "        super().__init__()\n",
    "        self.re = re\n",
    "        self.type = type\n",
    "        self.token = token\n",
    "\n",
    "# TODO fix errors with marks, variables, integers and real values \n",
    "PATTERNS = [\n",
    "#########################################\n",
    "# Other\n",
    "    Pattern(R\"^\\d+:\", \"mark\", T_MARK),\n",
    "#########################################\n",
    "# Words\n",
    "    Pattern(R'^\"Начало\"', \"word\", T_BEGIN),\n",
    "    Pattern(R'^\"Первое\"', \"word\", T_FIRST),\n",
    "    Pattern(R'^\"Второе\"', \"word\", T_SECOND),\n",
    "    Pattern(R'^\"Конец второго\"', \"word\", T_EOSECOND),\n",
    "    Pattern(R'^\"Третье\"', \"word\", T_THIRD),\n",
    "    Pattern(R'^\"Сочетаемое\"', \"word\", T_COMBINED),\n",
    "#########################################\n",
    "# Operands\n",
    "    Pattern(R\"^\\d+.\\d+\", \"operand\", T_REAL),\n",
    "    Pattern(R\"^\\d+\", \"operand\", T_INT),\n",
    "    Pattern(R\"^[a-zA-Zа-яА-ЯеЁ](\\d+|[a-zA-Zа-яА-ЯеЁ]+)*\", \"id\", T_ID),\n",
    "#########################################\n",
    "# Operators\n",
    "    # {\"re\": R\"^(\\+|\\-|\\*|\\/|\\|\\||&&|\\[|\\]|=|,)\", \"type\": \"operator\"},\n",
    "    Pattern(R'^\\+', \"operator\", T_PLUS),\n",
    "    Pattern(R'^\\-', \"operator\", T_MINUS),\n",
    "    Pattern(R'^\\*', \"operator\", T_MUL),\n",
    "    Pattern(R'^\\/', \"operator\", T_DIV),\n",
    "    Pattern(R'^\\=', \"operator\", T_EQ),\n",
    "    Pattern(R'^\\,', \"operator\", T_COMMA),\n",
    "    Pattern(R'^\\[', \"operator\", T_LBR),\n",
    "    Pattern(R'^\\]', \"operator\", T_RBR),\n",
    "    Pattern(R'^\\|\\|', \"operator\", T_OR),\n",
    "    Pattern(R'^&&', \"operator\", T_AND),\n",
    "]\n",
    "\n",
    "SKIP_PATTERNS = [\n",
    "    R\"^\\\\n+\",\n",
    "    R\"^ \"\n",
    "]\n",
    "\n",
    "class Token(object):\n",
    "    def __init__(self, type, token, value):\n",
    "        self.type = type\n",
    "        self.token = token\n",
    "        self.value = value\n",
    "\n",
    "class Tokenizer:\n",
    "    def __init__(self, code_string):\n",
    "        self._code_string = code_string\n",
    "        self._pos = 0\n",
    "\n",
    "    def next_token_exists(self):\n",
    "        return self._pos < len(self._code_string)\n",
    "\n",
    "    def tokenize(self):\n",
    "        tokens = []\n",
    "        while self.next_token_exists():\n",
    "            token = self.next_token()\n",
    "            if token is not None:\n",
    "                tokens.append(token)\n",
    "\n",
    "        return tokens\n",
    "\n",
    "    def next_token(self):\n",
    "        current_string = self._code_string[self._pos:]\n",
    "\n",
    "        for pattern in PATTERNS:\n",
    "            match = re.match(pattern.re, current_string)\n",
    "            if match:\n",
    "                value = match.group(0)\n",
    "                self._pos += len(value)\n",
    "                return Token(pattern.type, pattern.token, value)\n",
    "        \n",
    "        for skip in SKIP_PATTERNS:\n",
    "            match = re.match(skip, current_string)\n",
    "            if match:\n",
    "                value = match.group(0)\n",
    "                self._pos += len(value)\n",
    "                return None\n",
    "\n",
    "        unrecognized_token = re.match(R'^.+s*|(\\n)', current_string).group(0)\n",
    "        raise Exception(f\"Unrecognized token: {unrecognized_token} on {self._pos}\")\n",
    "        "
   ]
  },
  {
   "cell_type": "code",
   "execution_count": 23,
   "metadata": {},
   "outputs": [
    {
     "name": "stdout",
     "output_type": "stream",
     "text": [
      "{'type': 'word', 'token': 'BEGIN', 'value': '\"Начало\"'}\n",
      "{'type': 'word', 'token': 'FIRST', 'value': '\"Первое\"'}\n",
      "{'type': 'operand', 'token': 'REAL', 'value': '110 88'}\n",
      "{'type': 'operand', 'token': 'REAL', 'value': '8123 23'}\n",
      "{'type': 'word', 'token': 'SECOND', 'value': '\"Второе\"'}\n",
      "{'type': 'operand', 'token': 'REAL', 'value': '999.99'}\n",
      "{'type': 'operator', 'token': 'COMMA', 'value': ','}\n",
      "{'type': 'operand', 'token': 'REAL', 'value': '111.111'}\n",
      "{'type': 'operator', 'token': 'COMMA', 'value': ','}\n",
      "{'type': 'word', 'token': 'END OF SECOND', 'value': '\"Конец второго\"'}\n",
      "{'type': 'word', 'token': 'THIRD', 'value': '\"Третье\"'}\n",
      "{'type': 'id', 'token': 'ID', 'value': 'vara'}\n",
      "{'type': 'operator', 'token': 'COMMA', 'value': ','}\n",
      "{'type': 'id', 'token': 'ID', 'value': 'varb'}\n",
      "{'type': 'operator', 'token': 'COMMA', 'value': ','}\n",
      "{'type': 'id', 'token': 'ID', 'value': 'varc'}\n",
      "{'type': 'word', 'token': 'COMBINED', 'value': '\"Сочетаемое\"'}\n",
      "{'type': 'operand', 'token': 'REAL', 'value': '12 34'}\n",
      "{'type': 'mark', 'token': 'MARK', 'value': '123:'}\n",
      "{'type': 'id', 'token': 'ID', 'value': 'vara'}\n",
      "{'type': 'operator', 'token': 'EQUALS', 'value': '='}\n",
      "{'type': 'operand', 'token': 'INTEGER', 'value': '1'}\n",
      "{'type': 'operator', 'token': 'PLUS', 'value': '+'}\n",
      "{'type': 'operator', 'token': 'L BRACKET', 'value': '['}\n",
      "{'type': 'operand', 'token': 'INTEGER', 'value': '2'}\n",
      "{'type': 'operator', 'token': 'MUL', 'value': '*'}\n",
      "{'type': 'operand', 'token': 'INTEGER', 'value': '3'}\n",
      "{'type': 'operator', 'token': 'R BRACKET', 'value': ']'}\n",
      "{'type': 'operator', 'token': 'OR', 'value': '||'}\n",
      "{'type': 'operand', 'token': 'INTEGER', 'value': '4'}\n",
      "{'type': 'id', 'token': 'ID', 'value': 'varb'}\n",
      "{'type': 'operator', 'token': 'EQUALS', 'value': '='}\n",
      "{'type': 'operand', 'token': 'INTEGER', 'value': '1'}\n",
      "{'type': 'operator', 'token': 'PLUS', 'value': '+'}\n",
      "{'type': 'operator', 'token': 'L BRACKET', 'value': '['}\n",
      "{'type': 'operand', 'token': 'INTEGER', 'value': '2'}\n",
      "{'type': 'operator', 'token': 'MUL', 'value': '*'}\n",
      "{'type': 'operand', 'token': 'INTEGER', 'value': '3'}\n",
      "{'type': 'operator', 'token': 'R BRACKET', 'value': ']'}\n",
      "{'type': 'operator', 'token': 'OR', 'value': '||'}\n",
      "{'type': 'operand', 'token': 'INTEGER', 'value': '4'}\n"
     ]
    }
   ],
   "source": [
    "T = Tokenizer(code)\n",
    "for t in T.tokenize():\n",
    "    print(t.__dict__)"
   ]
  },
  {
   "cell_type": "code",
   "execution_count": 46,
   "metadata": {},
   "outputs": [],
   "source": [
    "re.match(R\"\", \"   sdf\")"
   ]
  }
 ],
 "metadata": {
  "interpreter": {
   "hash": "3e4cc16a16830f9516a209bbbc17643f751b6708bfbf0d37b68b9fce0dd3fdb4"
  },
  "kernelspec": {
   "display_name": "Python 3.9.1 64-bit (system)",
   "name": "python3"
  },
  "language_info": {
   "codemirror_mode": {
    "name": "ipython",
    "version": 3
   },
   "file_extension": ".py",
   "mimetype": "text/x-python",
   "name": "python",
   "nbconvert_exporter": "python",
   "pygments_lexer": "ipython3",
   "version": "3.9.1"
  },
  "orig_nbformat": 4
 },
 "nbformat": 4,
 "nbformat_minor": 2
}
